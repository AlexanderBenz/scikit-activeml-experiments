{
 "cells": [
  {
   "cell_type": "markdown",
   "metadata": {},
   "source": [
    "# Select Dataset"
   ]
  },
  {
   "cell_type": "code",
   "execution_count": 1,
   "metadata": {},
   "outputs": [],
   "source": [
    "import mlflow\n",
    "import ipywidgets as widgets\n",
    "import time"
   ]
  },
  {
   "cell_type": "code",
   "execution_count": 2,
   "metadata": {},
   "outputs": [],
   "source": [
    "out = widgets.Output(layout={'border': '2px solid black'})"
   ]
  },
  {
   "cell_type": "code",
   "execution_count": 3,
   "metadata": {},
   "outputs": [
    {
     "data": {
      "application/vnd.jupyter.widget-view+json": {
       "model_id": "9750a2066a6946fdad0cb4e123f6bb8f",
       "version_major": 2,
       "version_minor": 0
      },
      "text/plain": [
       "VBox(children=(Checkbox(value=False, description='uncertainty', indent=False), Checkbox(value=False, descripti…"
      ]
     },
     "execution_count": 3,
     "metadata": {},
     "output_type": "execute_result"
    }
   ],
   "source": [
    "# global strategies, selected_strategies\n",
    "strategies = [\"uncertainty\", \"random\"]\n",
    "\n",
    "checkboxes = []\n",
    "for strategy in strategies:\n",
    "    checkboxes.append(widgets.Checkbox(\n",
    "        value=False,\n",
    "        description=strategy,\n",
    "        disabled=False,\n",
    "        indent=False\n",
    "    )\n",
    "    )\n",
    "    \n",
    "\n",
    "\n",
    "def get_selected_strategies(checkboxes, strategies):\n",
    "    selected_strategies = []\n",
    "    for checkbox, strategy in zip(checkboxes, strategies):\n",
    "        if checkbox.get_interact_value():\n",
    "            selected_strategies.append(strategy)\n",
    "    out.append_stdout(selected_strategies)\n",
    "    return selected_strategies\n",
    "\n",
    "strategie_checklist = widgets.VBox(checkboxes)\n",
    "strategie_checklist"
   ]
  },
  {
   "cell_type": "code",
   "execution_count": 4,
   "metadata": {},
   "outputs": [],
   "source": [
    "# import pandas as pd\n",
    "def load_df(button): \n",
    "    out.clear_output()\n",
    "    time.sleep(0.5)\n",
    "    selected_strategies = get_selected_strategies(checkboxes, strategies)\n",
    "\n",
    "   \n",
    "    mlflow.set_tracking_uri(uri=\"file:../mlflow_tracking\")\n",
    "\n",
    "    experiment = mlflow.get_experiment_by_name(\"Evaluation-Active-Learning-Params\")\n",
    "    df = mlflow.search_runs(experiment_ids=experiment.experiment_id, output_format=\"pandas\")\n",
    "\n",
    "    df_new = df[['params.dataset', 'params.qs', 'params.batch_size', 'params.n_cycles', 'params.seed', 'artifact_uri']]\n",
    "    \n",
    "    out.append_display_data(df)\n"
   ]
  },
  {
   "cell_type": "code",
   "execution_count": 5,
   "metadata": {},
   "outputs": [
    {
     "data": {
      "application/vnd.jupyter.widget-view+json": {
       "model_id": "cd42c4f27d2d42a7ac1527e04a14d9f8",
       "version_major": 2,
       "version_minor": 0
      },
      "text/plain": [
       "Button(description='load data', icon='check', style=ButtonStyle(), tooltip='Click me')"
      ]
     },
     "execution_count": 5,
     "metadata": {},
     "output_type": "execute_result"
    }
   ],
   "source": [
    "button = widgets.Button(\n",
    "    description='load data',\n",
    "    disabled=False,\n",
    "    button_style='', # 'success', 'info', 'warning', 'danger' or ''\n",
    "    tooltip='Click me',\n",
    "    icon='check' # (FontAwesome names without the `fa-` prefix)\n",
    ")\n",
    "\n",
    "button.on_click(load_df)\n",
    "button\n"
   ]
  },
  {
   "cell_type": "code",
   "execution_count": 6,
   "metadata": {},
   "outputs": [
    {
     "data": {
      "application/vnd.jupyter.widget-view+json": {
       "model_id": "1e7bcf41cf1f4be88fb83ab7a94f2982",
       "version_major": 2,
       "version_minor": 0
      },
      "text/plain": [
       "Output(layout=Layout(border_bottom='2px solid black', border_left='2px solid black', border_right='2px solid b…"
      ]
     },
     "execution_count": 6,
     "metadata": {},
     "output_type": "execute_result"
    }
   ],
   "source": [
    "out"
   ]
  }
 ],
 "metadata": {
  "kernelspec": {
   "display_name": "scikit-activeml",
   "language": "python",
   "name": "python3"
  },
  "language_info": {
   "codemirror_mode": {
    "name": "ipython",
    "version": 3
   },
   "file_extension": ".py",
   "mimetype": "text/x-python",
   "name": "python",
   "nbconvert_exporter": "python",
   "pygments_lexer": "ipython3",
   "version": "3.10.14"
  }
 },
 "nbformat": 4,
 "nbformat_minor": 2
}
